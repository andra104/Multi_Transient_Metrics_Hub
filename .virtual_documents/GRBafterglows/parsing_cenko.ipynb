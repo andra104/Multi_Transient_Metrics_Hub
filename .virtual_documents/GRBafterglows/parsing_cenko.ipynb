


import pandas as pd
import numpy as np
from astropy.cosmology import Planck18 as cosmo
from astropy import units as u
import requests
from io import StringIO


# Step 1: Download the file
url = "https://content.cld.iop.org/journals/0004-637X/693/2/1484/revision1/apj299693t1_mrt.txt"
response = requests.get(url)
lines = response.text.splitlines()

# Step 2: Extract only data lines
data_lines = [line for line in lines if line.startswith("GRB")]
data_str = "\n".join(data_lines)

# Step 3: Define column specs and names (just the ones you want)
colspecs = [
    (0, 10),   # GRB name
    (30, 40),  # Time since burst [s]
    (41, 45),  # Filter
    (53, 54),  # Limit flag
    (54, 59),  # Magnitude
    (60, 64),  # Magnitude error
    (65, 66),  # Mag reference
]

colnames = ["GRB", "Time_sec", "Filter", "LimitFlag", "App_Mag", "Mag_Err", "Mag_Ref"]

# Step 4: Read into DataFrame
df = pd.read_fwf(StringIO(data_str), colspecs=colspecs, names=colnames)

# Step 5: Show preview
print(df.head(30))

print("--------")
unique_grbs = df['GRB'].nunique()
print(f"Number of unique GRBs in Table 1: {unique_grbs}")

print("--------")
unique_grbs_ordered = df['GRB'].drop_duplicates()
print("Unique GRBs in Table 1 (in order of appearance):")
for grb in unique_grbs_ordered:
    print(grb)





# Paste the data string for Table 3 here (just GRB name and Redshift column)
data = """
050412	No	No	 ... 	 ... 	 ... 	 ... 	 ... 	 ... 	<0.49  	 ...
050416A	Yes	 ... 	0.6535	0.23 +or- 0.08	0.9^+2.0_-0.3	11.6^+66.6_-8.9	2.6 +or- 1.8	1.33 (7)	0.35	 ...
050607	No	OT	 ... 	 ... 	 ... 	 ... 	 ... 	 ... 	<0.72  	 ...
050713A	Yes	 ... 	 ... 	0.62^+0.12_-0.11	 ... 	 ... 	 ... 	0.72 (7)	0.31	 ...
050820A^f	Yes	 ... 	2.615	 ... 	 ... 	 ... 	 ... 	 ... 	0.40	<0.10
050908	Yes	 ... 	3.35	0.69 +or- 0.05	 ... 	 ... 	-0.4 +or- 1.1	 0.75 (12)	0.91	 ...
050915A	No	IRT	 ... 	 ... 	 ... 	 ... 	 ... 	 ... 	<0.44  	 ...
060110	Yes	 ... 	 ... 	0.92^+0.30_-0.25	 ... 	 ... 	 ... 	0.23 (8)	0.80	 ...
060210	Yes	 ... 	3.91	0.93 +or- 0.06	 ... 	 ... 	7.2 +or- 0.7	 1.43 (21)	0.37	1.21^+0.16_-0.12
060502A	Yes	 ... 	1.51	0.49 +or- 0.05	 ... 	 ... 	2.1 +or- 0.3	 0.42 (24)	0.53	0.53 +or- 0.13
060510B	Yes	 ... 	4.9	0.3 +or- 0.5	 ... 	 ... 	4.2^+1.8_-2.2	0.15 (4)	0.04	 ...
060805A	No	No	 ... 	 ... 	 ... 	 ... 	 ... 	 ... 	<0.76 	 ...
060906^g	Yes	 ... 	3.685	 ... 	 ... 	 ... 	2.2 +or- 0.2	 0.22 (20)	0.88	0.20^+0.01_-0.12
060908	Yes	 ... 	2.43	1.03 +or- 0.02	 ... 	 ... 	0.46 +or- 0.06	 2.26 (52)	0.82	 ...
060923A	No	IRT	 ... 	 ... 	 ... 	 ... 	 ... 	 ... 	<0.41  	 ...
061222A	No	IRT	 ... 	 ... 	 ... 	 ... 	 ... 	 ... 	<0.15  	 ...
070208	Yes	 ... 	1.165	0.50 +or- 0.02	 ... 	 ... 	2.18 +or- 0.12	 1.81 (23)	0.54	0.96 +or- 0.09
070419A	Yes	 ... 	0.97	-2.7 +or- 0.6	1.04 +or- 0.04	0.53 +or- 0.02	1.5 +or- 0.2	 2.57 (17)	0.87	0.70^+0.31_-0.11
070521	No	No	 ... 	 ... 	 ... 	 ... 	 ... 	 ... 	<-0.03  	 ...
071003	Yes	 ... 	1.60435	1.77 +or- 0.05	 ... 	 ... 	0.86 +or- 0.19	0.48 (8)	0.27	<0.26
071010A	Yes	 ... 	 ... 	0.29 +or- 0.19	 ... 	 ... 	1.2 +or- 0.7	0.85 (6)	0.83	 ...
071011	Yes	 ... 	 ... 	0.90 +or- 0.20	 ... 	 ... 	1.9 +or- 0.7	0.26 (6)	0.66	 ...
071020	Yes	 ... 	2.145	0.89 +or- 0.12	 ... 	 ... 	0.58 +or- 0.27	 2.16 (14)	0.52	 ...
071122	Yes	 ... 	1.14	-0.08 +or- 0.09	 ... 	 ... 	1.3 +or- 0.6	 0.36 (11)	0.64	0.58 +or- 0.05
080310	Yes	 ... 	2.43	0.03 +or- 0.03	0.69 +or- 0.07	1.83 +or- 0.02	0.97 +or- 0.06	 0.55 (24)	0.79	0.10 +or- 0.02
080319A	Yes	 ... 	 ... 	-0.9 +or- 0.4	0.80 +or- 0.07	0.160^+0.136_-0.070	2.0 +or- 0.3	 1.50 (11)	0.41	 ...
080319B	Yes	 ... 	0.937	1.93^+0.04_-0.06	1.238 +or- 0.004	10.10 +or- 0.17	0.50 +or- 0.02	  0.57 (280)	0.52	 ...
080319C	Yes	 ... 	1.95	1.4 +or- 0.2	 ... 	 ... 	2.4 +or- 0.2	2.32 (3)	0.36	0.67 +or- 0.06
080320	Yes	 ... 	 ... 	 ... 	 ... 	 ... 	 ... 	 ... 	<0.31  	 ...
"""

# Parse each line
rows = []
for line in data.strip().splitlines():
    parts = line.split("\t")
    if not re.match(r"^\d{6}[A-Z]?", parts[0]):
        continue
    name = "GRB" + parts[0].strip("^f^g")
    redshift_raw = parts[3].strip()
    try:
        redshift = float(redshift_raw)
    except:
        redshift = None
    rows.append((name, redshift))
    

# Create and preview DataFrame
df_z = pd.DataFrame(rows, columns=["GRB", "Redshift"])
print(df_z.head(30))

print("---------")
unique_grbs = df_z['GRB'].nunique()
print(f"Number of unique GRBs in Table 3: {unique_grbs}")


print("--------")
unique_grbs_ordered = df_z['GRB'].drop_duplicates()
print("Unique GRBs in Table 3 (in order of appearance):")
for grb in unique_grbs_ordered:
    print(grb)




# Merge redshift info into the photometry table by GRB name
# Clean GRB names in both tables
#df["GRB"] = df["GRB"].str.strip().str.replace(r"[\\\^\s]", "", regex=True)
#df_z["GRB"] = df_z["GRB"].str.strip().str.replace(r"[\\\^\s]", "", regex=True)

merged_df = pd.merge(df, df_z, on="GRB", how="left")

# Preview the merged table
print(merged_df.head(50))

# Optional: Save to CSV
merged_df.to_csv("merged_photometry_with_redshift.csv", index=False)



from astropy.cosmology import Planck18 as cosmo
import numpy as np

# Assumed spectral slope
beta = 0.75

# Filter valid entries
valid = merged_df.dropna(subset=["Redshift", "App_Mag", "Time_sec"]).copy()

# Luminosity distance in pc
dl_pc = cosmo.luminosity_distance(valid["Redshift"]).to("pc").value

# Distance modulus
mu = 5 * np.log10(dl_pc / 10)

# K-correction (approximate for power-law SED)
k_corr = -2.5 * (1 - beta) * np.log10(1 + valid["Redshift"])

# Absolute magnitude without K-correction
valid["Abs_Mag_NoK"] = valid["App_Mag"] - mu

# Absolute magnitude with K-correction
valid["Abs_Mag_Kcorr"] = valid["App_Mag"] - mu - k_corr

# Rest-frame time
valid["Rest_Time_sec"] = valid["Time_sec"] / (1 + valid["Redshift"])

# Assign back to full DataFrame
for col in ["Abs_Mag_NoK", "Abs_Mag_Kcorr", "Rest_Time_sec"]:
    merged_df[col] = np.nan
    merged_df.loc[valid.index, col] = valid[col]

# Preview
print(merged_df[["GRB", "Filter", "Time_sec", "Rest_Time_sec", "App_Mag", "Redshift", "Abs_Mag_NoK", "Abs_Mag_Kcorr"]].head(20))




