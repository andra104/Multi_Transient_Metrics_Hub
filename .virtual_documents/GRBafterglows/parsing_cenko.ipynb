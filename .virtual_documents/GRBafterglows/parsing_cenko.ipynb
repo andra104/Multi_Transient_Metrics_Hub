import pandas as pd
import numpy as np
from astropy.cosmology import Planck18 as cosmo
from astropy import units as u
import requests
from io import StringIO


import pandas as pd
import requests
from io import StringIO

# Step 1: Download the file
url = "https://content.cld.iop.org/journals/0004-637X/693/2/1484/revision1/apj299693t1_mrt.txt"
response = requests.get(url)
lines = response.text.splitlines()

# Step 2: Extract only data lines
data_lines = [line for line in lines if line.startswith("GRB")]
data_str = "\n".join(data_lines)

# Step 3: Define column specs and names (just the ones you want)
colspecs = [
    (0, 10),   # GRB name
    (30, 40),  # Time since burst [s]
    (41, 45),  # Filter
    (53, 54),  # Limit flag
    (54, 59),  # Magnitude
    (60, 64),  # Magnitude error
    (65, 66),  # Mag reference
]

colnames = ["GRB", "Time_sec", "Filter", "LimitFlag", "App_Mag", "Mag_Err", "Mag_Ref"]

# Step 4: Read into DataFrame
df = pd.read_fwf(StringIO(data_str), colspecs=colspecs, names=colnames)

# Step 5: Show preview
print(df.head(20))



import pandas as pd
import numpy as np
import re

# --- Load and clean Table 1 photometry ---
with open("apj299693t1_mrt.txt", "r") as f:
    lines1 = f.readlines()

# Extract only the data lines
data_lines1 = [line for line in lines1 if line.startswith("GRB")]
table1 = []

for line in data_lines1:
    parts = re.split(r"\s+", line.strip())
    try:
        name = parts[0]
        filt = parts[5]
        time = float(parts[6])
        limit_flag = parts[8].startswith(">")
        mag = float(parts[8][1:]) if limit_flag else float(parts[8])
        mag_err = float(parts[9]) if not limit_flag else np.nan
        table1.append((name, filt, time, mag, mag_err, limit_flag))
    except Exception:
        continue

df1 = pd.DataFrame(table1, columns=["GRB", "Filter", "Time_since_burst_sec", "App_Mag", "Mag_Err", "Is_Limit"])
df1["GRB"] = df1["GRB"].str.extract(r"(GRB\d{6}[A-Z]?)")  # Normalize GRB names

# --- Load and clean Table 3 redshifts ---
with open("apj299693t3_ascii.txt", "r") as f:
    lines3 = f.readlines()

# Extract GRB and redshift columns from lines that begin with GRB
data_lines3 = [line for line in lines3 if line.startswith("GRB")]
table3 = []

for line in data_lines3:
    parts = re.split(r"\s+", line.strip())
    try:
        name = parts[0]
        z = float(parts[1])
        table3.append((name, z))
    except Exception:
        continue

df3 = pd.DataFrame(table3, columns=["GRB", "Redshift"])
df3["GRB"] = df3["GRB"].str.extract(r"(GRB\d{6}[A-Z]?)")  # Normalize GRB names

# --- Merge redshift into photometry ---
merged_df = pd.merge(df1, df3, on="GRB", how="left")

# --- Output ---
print(merged_df.head(20))  # Show 20 rows



import os
print(os.getcwd())




