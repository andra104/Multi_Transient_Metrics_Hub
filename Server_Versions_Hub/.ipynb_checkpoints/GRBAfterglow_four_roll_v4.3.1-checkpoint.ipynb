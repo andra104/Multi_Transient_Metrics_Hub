{
 "cells": [
  {
   "cell_type": "code",
   "execution_count": 7,
   "id": "7a13d266",
   "metadata": {},
   "outputs": [],
   "source": [
    "%matplotlib inline\n",
    "\n",
    "import glob\n",
    "import os\n",
    "import random\n",
    "import json\n",
    "\n",
    "import numpy as np\n",
    "import matplotlib.pyplot as plt\n",
    "from collections import OrderedDict\n",
    "\n",
    "from astropy.table import Table\n",
    "import rubin_sim.maf.db as db\n",
    "from rubin_sim.maf.utils import m52snr\n",
    "import rubin_sim.maf.metrics as metrics\n",
    "import rubin_sim.maf.plots as plots\n",
    "\n",
    "import rubin_sim.maf.slicers as slicers\n",
    "import rubin_sim.maf.metricBundles as metricBundles\n",
    "from rubin_sim.utils import equatorialFromGalactic, hpid2RaDec, _healbin, healbin\n",
    "from rubin_sim.utils import getPackageDir\n",
    "#from rubin_sim.maf import KN_lc, KNePopMetric, generateKNPopSlicer, get_filename\n",
    "import healpy as hp"
   ]
  },
  {
   "cell_type": "code",
   "execution_count": 9,
   "id": "788d51e5-2ae1-45b6-a5fc-b2e3fd8c410e",
   "metadata": {},
   "outputs": [
    {
     "name": "stdout",
     "output_type": "stream",
     "text": [
      "/home/andra104/Stuff/AllTransient_MetricDetection/GRBafterglows.py\n"
     ]
    }
   ],
   "source": [
    "import sys\n",
    "import importlib\n",
    "\n",
    "if \"GRBafterglows\" in sys.modules:\n",
    "    del sys.modules[\"GRBafterglows\"]\n",
    "\n",
    "import GRBafterglows\n",
    "importlib.reload(GRBafterglows)\n",
    "\n",
    "from GRBafterglows import GRB_lc, GRBPopMetric, GRBPopMetricMultiDetect, GRBPopMetricEpochDetect, sample_grb_rate, generateGRBPopSlicer\n",
    "print(GRBafterglows.__file__)\n"
   ]
  },
  {
   "cell_type": "code",
   "execution_count": null,
   "id": "2be8b1a5",
   "metadata": {
    "scrolled": true
   },
   "outputs": [
    {
     "name": "stdout",
     "output_type": "stream",
     "text": [
      "Total GRB events simulated: 5004\n",
      "First few peak times (days): [1057.42564972  926.5322098  1209.06875717  986.02540737 1868.25431941]\n",
      "First few file indices: [52 16 63 83 60]\n",
      "Generated 100 synthetic GRB light curves.\n",
      "Generated 100 synthetic GRB light curves.\n"
     ]
    }
   ],
   "source": [
    "\n",
    "# GRB detection parameters\n",
    "dmin = 10   # Minimum distance in Mpc\n",
    "dmax = 1000 # Extend max distance for GRBs\n",
    "\n",
    "# Number of GRB events\n",
    "n_events = sample_grb_rate(1, 3652)\n",
    "\n",
    "cadence_nickname = 'four_roll_v4.3.1_10yrs' # Used in output filenames\n",
    "\n",
    "# Output file for GRB efficiency results\n",
    "outfile = f\"AllTransient_MetricDetection/efficiency_{cadence_nickname}_cadence_GRBA.csv\"\n",
    "\n",
    "# Start an output file\n",
    "with open(outfile, \"w\") as out:\n",
    "    out.write(\"dist_min_Mpc, dist_max_Mpc, metric, found, total, efficiency\\n\")\n",
    "\n",
    "# Generate the GRB population slicer\n",
    "slicer = generateGRBPopSlicer(seed=42, n_files=100, d_min=dmin, d_max=dmax)\n",
    "\n",
    "# Load Rubin cadence database\n",
    "runName = 'four_roll_v4.3.1_10yrs'\n",
    "opsdb = db.OpsimDatabase(f'../AllTransient_MetricDetection/{runName}.db')\n",
    "\n",
    "outDir = \"AllTransient_MetricDetection/Metric_temp\"\n",
    "resultsDb = db.ResultsDb(outDir=outDir)\n",
    "\n",
    "print(f\"Total GRB events simulated: {n_events}\")\n",
    "print(f\"First few peak times (days): {slicer.slicePoints['peak_time'][:5]}\")\n",
    "print(f\"First few file indices: {slicer.slicePoints['file_indx'][:5]}\")\n",
    "\n",
    "# Use the updated GRBPopMetric\n",
    "metric_multi = GRBPopMetricMultiDetect(outputLc=False)\n",
    "metric_epoch = GRBPopMetricEpochDetect(outputLc=False)\n",
    "\n",
    "# Configure metric bundle\n",
    "sql = ''\n",
    "\n",
    "# Define plotDict for each metric separately\n",
    "plotDict_multi = {'reduceFunc': np.sum, 'nside': 64, 'colorMin': 0, 'title': f'{runName} : GRBPopMetric_MultiDetect'}\n",
    "plotDict_epoch = {'reduceFunc': np.sum, 'nside': 64, 'colorMin': 0, 'title': f'{runName} : GRBPopMetric_EpochDetect'}\n",
    "\n",
    "plotFuncs = [plots.HealpixSkyMap()]\n",
    "summaryMetrics = [metrics.MeanMetric(maskVal=0)]\n",
    "\n",
    "# Define metric bundles\n",
    "bundles = [\n",
    "    metricBundles.MetricBundle(metric_multi, slicer, sql, runName=runName,\n",
    "                               plotDict=plotDict_multi, plotFuncs=plotFuncs, summaryMetrics=summaryMetrics,\n",
    "                               fileRoot=f\"{runName}_GRBPopMetric_MultiDetect\"),\n",
    "    \n",
    "    metricBundles.MetricBundle(metric_epoch, slicer, sql, runName=runName,\n",
    "                               plotDict=plotDict_epoch, plotFuncs=plotFuncs, summaryMetrics=summaryMetrics,\n",
    "                               fileRoot=f\"{runName}_GRBPopMetric_EpochDetect\"),\n",
    "]\n",
    "\n",
    "# Convert list to dictionary for MetricBundleGroup\n",
    "bd = metricBundles.makeBundlesDictFromList(bundles)\n",
    "\n",
    "# Define `bgroup` before calling `bgroup.runAll()`\n",
    "bgroup = metricBundles.MetricBundleGroup(bd, opsdb, outDir=outDir, resultsDb=resultsDb)\n",
    "\n",
    "bgroup.runAll()\n",
    "bgroup.plotAll(closefigs=False)\n",
    "\n",
    "# Collect results\n",
    "with open(outfile, \"a\") as out:\n",
    "    for key in bd:\n",
    "        if \"USER\" in key:\n",
    "            continue\n",
    "        found = np.size(np.where(bd[key].metricValues == 1)[0])\n",
    "        out.write(f\"{dmin}, {dmax}, {key}, {found}, {n_events}, {found/n_events}\\n\")\n"
   ]
  },
  {
   "cell_type": "code",
   "execution_count": null,
   "id": "323e65d6-7f06-4c24-97e3-b6f8069d53d2",
   "metadata": {},
   "outputs": [],
   "source": [
    "print(f\"Total GRB events simulated: {slicer.slicePoints['distance'].size}\")\n"
   ]
  },
  {
   "cell_type": "code",
   "execution_count": null,
   "id": "d1ad3b6b",
   "metadata": {},
   "outputs": [],
   "source": [
    "\n",
    "# Now test the light curve plot\n",
    "grbs = GRBafterglows.GRB_lc(num_samples=100)\n",
    "grbs.plot_light_curves(num_to_plot=10, filter_name=\"r\")\n",
    "\n",
    "\n"
   ]
  },
  {
   "cell_type": "code",
   "execution_count": null,
   "id": "1b8f00ff-4fae-4e72-801a-97ab1d4df334",
   "metadata": {},
   "outputs": [],
   "source": []
  }
 ],
 "metadata": {
  "kernelspec": {
   "display_name": "Python (rubin-sims-v0.13.0)",
   "language": "python",
   "name": "conda-env-rubin-sims-v0.13.0-py"
  },
  "language_info": {
   "codemirror_mode": {
    "name": "ipython",
    "version": 3
   },
   "file_extension": ".py",
   "mimetype": "text/x-python",
   "name": "python",
   "nbconvert_exporter": "python",
   "pygments_lexer": "ipython3",
   "version": "3.10.6"
  }
 },
 "nbformat": 4,
 "nbformat_minor": 5
}
