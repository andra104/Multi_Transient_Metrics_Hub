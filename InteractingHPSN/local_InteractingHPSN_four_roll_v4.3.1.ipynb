{
 "cells": [
  {
   "cell_type": "markdown",
   "id": "1fd66fbc-a311-41e0-bf55-f5ca257b2754",
   "metadata": {},
   "source": []
  },
  {
   "cell_type": "code",
   "execution_count": 4,
   "id": "53e7f5a9-ed71-4b73-830e-038d426dccdb",
   "metadata": {},
   "outputs": [],
   "source": []
  },
  {
   "cell_type": "code",
   "execution_count": 5,
   "id": "773d87f6-b9b1-4f3b-a8fa-f5a5024c7719",
   "metadata": {},
   "outputs": [
    {
     "name": "stdout",
     "output_type": "stream",
     "text": [
      "/Users/andradenebula/Documents/Research/Transient_Metrics/Stuff/AllTransient/local_InteractingHPSN.py\n",
      "/Users/andradenebula/Documents/Research/Transient_Metrics/Stuff/AllTransient/local_InteractingHPSN.py\n"
     ]
    }
   ],
   "source": [
    "import sys\n",
    "import importlib\n",
    "\n",
    "if \"local_InteractingHPSN\" in sys.modules:\n",
    "    del sys.modules[\"local_InteractingHPSN\"]\n",
    "import local_InteractingHPSN\n",
    "importlib.reload(local_InteractingHPSN)\n",
    "\n",
    "print(local_InteractingHPSN.__file__)\n",
    "\n",
    "from local_InteractingHPSN import (\n",
    "    InteractingHPSN_LC,\n",
    "    generateInteractingHPSNSlicer,\n",
    "    BaseInteractingHPSNMetric,\n",
    "    InteractingHPSN_DetectMetric,\n",
    "    InteractingHPSN_ClassicalMetric,\n",
    "    InteractingHPSN_AmbiguousMetric,\n",
    "    InteractingHPSN_UncharacterizedMetric,\n",
    "    InteractingHPSN_SeparabilityMetric,\n",
    "    InteractingHPSN_TriggerableMetric\n",
    ")\n",
    "\n",
    "print(local_InteractingHPSN.__file__)\n"
   ]
  },
  {
   "cell_type": "code",
   "execution_count": 7,
   "id": "65fd7ea4-4e9d-4dc9-abbe-92de6c10e233",
   "metadata": {},
   "outputs": [
    {
     "ename": "AttributeError",
     "evalue": "module 'healpy' has no attribute 'HealpixSlicer'",
     "output_type": "error",
     "traceback": [
      "\u001b[31m---------------------------------------------------------------------------\u001b[39m",
      "\u001b[31mAttributeError\u001b[39m                            Traceback (most recent call last)",
      "\u001b[36mCell\u001b[39m\u001b[36m \u001b[39m\u001b[32mIn[7]\u001b[39m\u001b[32m, line 14\u001b[39m\n\u001b[32m     12\u001b[39m opsdb = OpsimDatabase(db_file)\n\u001b[32m     13\u001b[39m metric = CountMetric(col=\u001b[33m'\u001b[39m\u001b[33mnight\u001b[39m\u001b[33m'\u001b[39m)\n\u001b[32m---> \u001b[39m\u001b[32m14\u001b[39m slicer = hp.HealpixSlicer(nside=\u001b[32m64\u001b[39m)\n\u001b[32m     15\u001b[39m maps = [StellarDensityMap(nside=\u001b[32m64\u001b[39m)]\n\u001b[32m     16\u001b[39m foot_bundle = MetricBundle(metric, slicer, maps=maps)\n",
      "\u001b[31mAttributeError\u001b[39m: module 'healpy' has no attribute 'HealpixSlicer'"
     ]
    }
   ],
   "source": [
    "# -------------------------------\n",
    "# Configuration\n",
    "# -------------------------------\n",
    "db_file = \"baseline_v4.3.1_10yrs.db\"\n",
    "run_name = os.path.splitext(os.path.basename(db_file))[0]\n",
    "out_dir = f\"output_{run_name}_InteractingHPSN\"\n",
    "os.makedirs(out_dir, exist_ok=True)\n",
    "\n",
    "# -------------------------------\n",
    "# Load LSST footprint probability map\n",
    "# -------------------------------\n",
    "opsdb = OpsimDatabase(db_file)\n",
    "metric = CountMetric(col='night')\n",
    "slicer = hp.HealpixSlicer(nside=64)\n",
    "maps = [StellarDensityMap(nside=64)]\n",
    "foot_bundle = MetricBundle(metric, slicer, maps=maps)\n",
    "foot_group = MetricBundleGroup({\"footprint\": foot_bundle}, opsdb, out_dir=out_dir)\n",
    "foot_group.runAll()\n",
    "prob_map = foot_bundle.metricValues\n",
    "prob_map /= np.sum(prob_map)  # normalize\n",
    "\n",
    "# -------------------------------\n",
    "# Generate SN population and slicer\n",
    "# -------------------------------\n",
    "template_path = os.path.join(out_dir, \"InteractingHPSN_templates.pkl\")\n",
    "pop_path = os.path.join(out_dir, \"InteractingHPSN_population.pkl\")\n",
    "\n",
    "lc_model = InteractingHPSN_LC(save_to=template_path)\n",
    "slicer = generateInteractingHPSNSlicer(prob_map, lc_model, save_to=pop_path)\n",
    "\n",
    "# -------------------------------\n",
    "# Define metrics\n",
    "# -------------------------------\n",
    "metrics = {\n",
    "    \"InteractingHPSN_Detect\": InteractingHPSN_DetectMetric(),\n",
    "    \"InteractingHPSN_Classical\": InteractingHPSN_ClassicalMetric(),\n",
    "    \"InteractingHPSN_Ambiguous\": InteractingHPSN_AmbiguousMetric(),\n",
    "    \"InteractingHPSN_Uncharacterized\": InteractingHPSN_UncharacterizedMetric(),\n",
    "    \"InteractingHPSN_Separability\": InteractingHPSN_SeparabilityMetric(),\n",
    "    \"InteractingHPSN_Triggerable\": InteractingHPSN_TriggerableMetric()\n",
    "}\n",
    "\n",
    "# -------------------------------\n",
    "# Run metrics\n",
    "# -------------------------------\n",
    "bundles = {}\n",
    "for name, metric in metrics.items():\n",
    "    bundles[name] = MetricBundle(metric, slicer, maps=[], metricName=name)\n",
    "\n",
    "group = MetricBundleGroup(bundles, opsdb, out_dir=out_dir)\n",
    "group.runAll()\n",
    "\n",
    "# -------------------------------\n",
    "# Save results\n",
    "# -------------------------------\n",
    "print(f\"Metrics complete. Results in: {out_dir}\")\n"
   ]
  },
  {
   "cell_type": "code",
   "execution_count": null,
   "id": "144132ea-c024-4067-bb9d-e9a62ed182b3",
   "metadata": {},
   "outputs": [],
   "source": []
  }
 ],
 "metadata": {
  "kernelspec": {
   "display_name": "Python (rubin_sim_223)",
   "language": "python",
   "name": "rubin_sim_223"
  },
  "language_info": {
   "codemirror_mode": {
    "name": "ipython",
    "version": 3
   },
   "file_extension": ".py",
   "mimetype": "text/x-python",
   "name": "python",
   "nbconvert_exporter": "python",
   "pygments_lexer": "ipython3",
   "version": "3.11.11"
  }
 },
 "nbformat": 4,
 "nbformat_minor": 5
}
