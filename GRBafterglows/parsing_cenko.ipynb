{
 "cells": [
  {
   "cell_type": "code",
   "execution_count": 1,
   "id": "12f918b1-987d-44f4-8cd3-9b7523b88384",
   "metadata": {},
   "outputs": [],
   "source": [
    "import pandas as pd\n",
    "import numpy as np\n",
    "from astropy.cosmology import Planck18 as cosmo\n",
    "from astropy import units as u\n",
    "import requests\n",
    "from io import StringIO"
   ]
  },
  {
   "cell_type": "code",
   "execution_count": 19,
   "id": "bb9ab37d-01c9-4ad6-851d-2b09bd383acc",
   "metadata": {},
   "outputs": [
    {
     "name": "stdout",
     "output_type": "stream",
     "text": [
      "           GRB  Time_sec Filter LimitFlag  App_Mag  Mag_Err  Mag_Ref\n",
      "0    GRB050412     391.0   R_C_         >    20.80      NaN        1\n",
      "1    GRB050412     684.7   R_C_         >    21.40      NaN        1\n",
      "2    GRB050412    1063.7      i         >    21.00      NaN        1\n",
      "3    GRB050412    1646.0      z         >    20.20      NaN        1\n",
      "4    GRB050412    2858.8   R_C_         >    22.50      NaN        1\n",
      "5    GRB050412    2817.0      i         >    22.00      NaN        1\n",
      "6   GRB050416A     216.0   I_C_       NaN    18.82     0.11        2\n",
      "7   GRB050416A     371.5   I_C_       NaN    18.86     0.11        2\n",
      "8   GRB050416A     527.0   I_C_       NaN    19.16     0.13        2\n",
      "9   GRB050416A     691.2   I_C_       NaN    19.35     0.23        2\n",
      "10  GRB050416A     846.7   I_C_       NaN    19.01     0.12        2\n",
      "11  GRB050416A    1002.2   I_C_       NaN    19.53     0.18        2\n",
      "12  GRB050416A    1347.8      z       NaN    19.16     0.27        2\n",
      "13  GRB050416A    1874.9   I_C_       NaN    19.09     0.20        2\n",
      "14  GRB050416A    2281.0   I_C_       NaN    19.34     0.23        2\n",
      "15  GRB050416A   80170.0   R_C_       NaN    22.62     0.30        2\n",
      "16  GRB050416A   81130.0      z         >    20.40      NaN        2\n",
      "17  GRB050416A   81790.0      i       NaN    22.05     0.30        2\n",
      "18  GRB050416A  157800.0   R_C_         >    23.60      NaN        2\n",
      "19  GRB050416A  167700.0      i         >    22.80      NaN        2\n"
     ]
    }
   ],
   "source": [
    "import pandas as pd\n",
    "import requests\n",
    "from io import StringIO\n",
    "\n",
    "# Step 1: Download the file\n",
    "url = \"https://content.cld.iop.org/journals/0004-637X/693/2/1484/revision1/apj299693t1_mrt.txt\"\n",
    "response = requests.get(url)\n",
    "lines = response.text.splitlines()\n",
    "\n",
    "# Step 2: Extract only data lines\n",
    "data_lines = [line for line in lines if line.startswith(\"GRB\")]\n",
    "data_str = \"\\n\".join(data_lines)\n",
    "\n",
    "# Step 3: Define column specs and names (just the ones you want)\n",
    "colspecs = [\n",
    "    (0, 10),   # GRB name\n",
    "    (30, 40),  # Time since burst [s]\n",
    "    (41, 45),  # Filter\n",
    "    (53, 54),  # Limit flag\n",
    "    (54, 59),  # Magnitude\n",
    "    (60, 64),  # Magnitude error\n",
    "    (65, 66),  # Mag reference\n",
    "]\n",
    "\n",
    "colnames = [\"GRB\", \"Time_sec\", \"Filter\", \"LimitFlag\", \"App_Mag\", \"Mag_Err\", \"Mag_Ref\"]\n",
    "\n",
    "# Step 4: Read into DataFrame\n",
    "df = pd.read_fwf(StringIO(data_str), colspecs=colspecs, names=colnames)\n",
    "\n",
    "# Step 5: Show preview\n",
    "print(df.head(20))\n"
   ]
  },
  {
   "cell_type": "code",
   "execution_count": 29,
   "id": "7cf4e97d-1eef-4f89-841a-7d660c7d2054",
   "metadata": {},
   "outputs": [
    {
     "ename": "FileNotFoundError",
     "evalue": "[Errno 2] No such file or directory: 'apj299693t1_mrt.txt'",
     "output_type": "error",
     "traceback": [
      "\u001b[31m---------------------------------------------------------------------------\u001b[39m",
      "\u001b[31mFileNotFoundError\u001b[39m                         Traceback (most recent call last)",
      "\u001b[36mCell\u001b[39m\u001b[36m \u001b[39m\u001b[32mIn[29]\u001b[39m\u001b[32m, line 6\u001b[39m\n\u001b[32m      3\u001b[39m \u001b[38;5;28;01mimport\u001b[39;00m\u001b[38;5;250m \u001b[39m\u001b[34;01mre\u001b[39;00m\n\u001b[32m      5\u001b[39m \u001b[38;5;66;03m# --- Load and clean Table 1 photometry ---\u001b[39;00m\n\u001b[32m----> \u001b[39m\u001b[32m6\u001b[39m \u001b[38;5;28;01mwith\u001b[39;00m \u001b[38;5;28mopen\u001b[39m(\u001b[33m\"\u001b[39m\u001b[33mapj299693t1_mrt.txt\u001b[39m\u001b[33m\"\u001b[39m, \u001b[33m\"\u001b[39m\u001b[33mr\u001b[39m\u001b[33m\"\u001b[39m) \u001b[38;5;28;01mas\u001b[39;00m f:\n\u001b[32m      7\u001b[39m     lines1 = f.readlines()\n\u001b[32m      9\u001b[39m \u001b[38;5;66;03m# Extract only the data lines\u001b[39;00m\n",
      "\u001b[36mFile \u001b[39m\u001b[32m/opt/anaconda3/envs/rubin_sim_223/lib/python3.11/site-packages/IPython/core/interactiveshell.py:326\u001b[39m, in \u001b[36m_modified_open\u001b[39m\u001b[34m(file, *args, **kwargs)\u001b[39m\n\u001b[32m    319\u001b[39m \u001b[38;5;28;01mif\u001b[39;00m file \u001b[38;5;129;01min\u001b[39;00m {\u001b[32m0\u001b[39m, \u001b[32m1\u001b[39m, \u001b[32m2\u001b[39m}:\n\u001b[32m    320\u001b[39m     \u001b[38;5;28;01mraise\u001b[39;00m \u001b[38;5;167;01mValueError\u001b[39;00m(\n\u001b[32m    321\u001b[39m         \u001b[33mf\u001b[39m\u001b[33m\"\u001b[39m\u001b[33mIPython won\u001b[39m\u001b[33m'\u001b[39m\u001b[33mt let you open fd=\u001b[39m\u001b[38;5;132;01m{\u001b[39;00mfile\u001b[38;5;132;01m}\u001b[39;00m\u001b[33m by default \u001b[39m\u001b[33m\"\u001b[39m\n\u001b[32m    322\u001b[39m         \u001b[33m\"\u001b[39m\u001b[33mas it is likely to crash IPython. If you know what you are doing, \u001b[39m\u001b[33m\"\u001b[39m\n\u001b[32m    323\u001b[39m         \u001b[33m\"\u001b[39m\u001b[33myou can use builtins\u001b[39m\u001b[33m'\u001b[39m\u001b[33m open.\u001b[39m\u001b[33m\"\u001b[39m\n\u001b[32m    324\u001b[39m     )\n\u001b[32m--> \u001b[39m\u001b[32m326\u001b[39m \u001b[38;5;28;01mreturn\u001b[39;00m io_open(file, *args, **kwargs)\n",
      "\u001b[31mFileNotFoundError\u001b[39m: [Errno 2] No such file or directory: 'apj299693t1_mrt.txt'"
     ]
    }
   ],
   "source": [
    "import pandas as pd\n",
    "import numpy as np\n",
    "import re\n",
    "\n",
    "# --- Load and clean Table 1 photometry ---\n",
    "with open(\"apj299693t1_mrt.txt\", \"r\") as f:\n",
    "    lines1 = f.readlines()\n",
    "\n",
    "# Extract only the data lines\n",
    "data_lines1 = [line for line in lines1 if line.startswith(\"GRB\")]\n",
    "table1 = []\n",
    "\n",
    "for line in data_lines1:\n",
    "    parts = re.split(r\"\\s+\", line.strip())\n",
    "    try:\n",
    "        name = parts[0]\n",
    "        filt = parts[5]\n",
    "        time = float(parts[6])\n",
    "        limit_flag = parts[8].startswith(\">\")\n",
    "        mag = float(parts[8][1:]) if limit_flag else float(parts[8])\n",
    "        mag_err = float(parts[9]) if not limit_flag else np.nan\n",
    "        table1.append((name, filt, time, mag, mag_err, limit_flag))\n",
    "    except Exception:\n",
    "        continue\n",
    "\n",
    "df1 = pd.DataFrame(table1, columns=[\"GRB\", \"Filter\", \"Time_since_burst_sec\", \"App_Mag\", \"Mag_Err\", \"Is_Limit\"])\n",
    "df1[\"GRB\"] = df1[\"GRB\"].str.extract(r\"(GRB\\d{6}[A-Z]?)\")  # Normalize GRB names\n",
    "\n",
    "# --- Load and clean Table 3 redshifts ---\n",
    "with open(\"apj299693t3_ascii.txt\", \"r\") as f:\n",
    "    lines3 = f.readlines()\n",
    "\n",
    "# Extract GRB and redshift columns from lines that begin with GRB\n",
    "data_lines3 = [line for line in lines3 if line.startswith(\"GRB\")]\n",
    "table3 = []\n",
    "\n",
    "for line in data_lines3:\n",
    "    parts = re.split(r\"\\s+\", line.strip())\n",
    "    try:\n",
    "        name = parts[0]\n",
    "        z = float(parts[1])\n",
    "        table3.append((name, z))\n",
    "    except Exception:\n",
    "        continue\n",
    "\n",
    "df3 = pd.DataFrame(table3, columns=[\"GRB\", \"Redshift\"])\n",
    "df3[\"GRB\"] = df3[\"GRB\"].str.extract(r\"(GRB\\d{6}[A-Z]?)\")  # Normalize GRB names\n",
    "\n",
    "# --- Merge redshift into photometry ---\n",
    "merged_df = pd.merge(df1, df3, on=\"GRB\", how=\"left\")\n",
    "\n",
    "# --- Output ---\n",
    "print(merged_df.head(20))  # Show 20 rows\n"
   ]
  },
  {
   "cell_type": "code",
   "execution_count": 31,
   "id": "152ea040-aa7c-439d-b3bd-45165da58aa1",
   "metadata": {},
   "outputs": [
    {
     "name": "stdout",
     "output_type": "stream",
     "text": [
      "/Users/andradenebula/Documents/Research/Transient_Metrics/Multi_Transient_Metrics_Hub\n"
     ]
    }
   ],
   "source": [
    "import os\n",
    "print(os.getcwd())\n"
   ]
  },
  {
   "cell_type": "code",
   "execution_count": null,
   "id": "317f3842-9bf5-4f99-8e14-b6f2e3dd6104",
   "metadata": {},
   "outputs": [],
   "source": []
  }
 ],
 "metadata": {
  "kernelspec": {
   "display_name": "Python (rubin_sim_223)",
   "language": "python",
   "name": "rubin_sim_223"
  },
  "language_info": {
   "codemirror_mode": {
    "name": "ipython",
    "version": 3
   },
   "file_extension": ".py",
   "mimetype": "text/x-python",
   "name": "python",
   "nbconvert_exporter": "python",
   "pygments_lexer": "ipython3",
   "version": "3.11.11"
  }
 },
 "nbformat": 4,
 "nbformat_minor": 5
}
